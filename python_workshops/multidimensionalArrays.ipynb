{
 "cells": [
  {
   "cell_type": "markdown",
   "metadata": {},
   "source": [
    "# Multidimensional arrays\n",
    "\n",
    "IHE, Friday 20 Feb 2017"
   ]
  },
  {
   "cell_type": "code",
   "execution_count": null,
   "metadata": {
    "collapsed": true
   },
   "outputs": [],
   "source": [
    "import numpy as np"
   ]
  },
  {
   "cell_type": "markdown",
   "metadata": {},
   "source": [
    "What is it useful for?\n",
    "\n",
    "Store multidimensional data, like\n",
    "\n",
    "+ The head in a numerical network in 2 or 3D\n",
    "+ time-distacne arrays, combining all times and distances, for instance of a drawdown\n",
    "+ Multiple measurements"
   ]
  },
  {
   "cell_type": "markdown",
   "metadata": {},
   "source": [
    "What we'll do\n",
    "\n",
    "+ The differece between sequences (list, tuples) and numpy arrays (numerical arrays)\n",
    "+ Show how to generate (with types), and manipulate multidimensional arrays and how to handle them\n",
    "    .size,\n",
    "    .shape,\n",
    "    .reshape(),\n",
    "    .hstack(),\n",
    "    .vstack()\n",
    "+ lists of list versus numerical arrays\n",
    "+ slicing and indexing in arrays\n",
    "    - slicing\n",
    "    - logical indexing (show what's where)\n",
    "+ Show broadcasting of arrays\n",
    "+ The difference between an array and a matrix\n",
    "+ Compute the drawdown versus time and show the drawns for many times and disctances in a single graph\n",
    "    - a Theis well\n",
    "    - a well and a mirror well\n",
    "+ Compute the drawdown on a spatial grid\n",
    "+ Contour the drawdown\n",
    "    - line\n",
    "    - full colors\n",
    "    - colorbar( with title)\n",
    "+ Compute the velocities on the grid\n",
    "+ Show the velocities using quiver\n",
    "+ Set up a system with a large number of linear equations and solve it.\n",
    "    + regression\n",
    "+ logical array indexing using polyline\n",
    "    + polyline\n",
    "    + np.spy\n"
   ]
  },
  {
   "cell_type": "code",
   "execution_count": null,
   "metadata": {
    "collapsed": true
   },
   "outputs": [],
   "source": []
  }
 ],
 "metadata": {
  "anaconda-cloud": {},
  "kernelspec": {
   "display_name": "Python [default]",
   "language": "python",
   "name": "python3"
  },
  "language_info": {
   "codemirror_mode": {
    "name": "ipython",
    "version": 3
   },
   "file_extension": ".py",
   "mimetype": "text/x-python",
   "name": "python",
   "nbconvert_exporter": "python",
   "pygments_lexer": "ipython3",
   "version": "3.5.2"
  }
 },
 "nbformat": 4,
 "nbformat_minor": 1
}
