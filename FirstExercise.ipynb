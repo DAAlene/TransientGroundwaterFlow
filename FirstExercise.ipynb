{
 "cells": [
  {
   "cell_type": "markdown",
   "metadata": {},
   "source": [
    "# Transient course\n",
    "\n",
    "## second chapter\n",
    "\n",
    "I want this *italic* and this **bold**  and an inline fomrmula $ y=\\sqrt{2 \\pi \\lambda \\epsilon} $\n",
    "\n",
    "where we do formulas\n",
    "\n",
    "$$ s(r) = \\frac {Q} {4 \\pi kD} K_0 \\frac {r} {\\lambda} $$\n",
    "\n",
    "$$ y = \\intop_{-\\infty}^\\infty \\frac 1 y dy $$\n",
    "\n",
    "$$ s = \\frac Q {2 \\pi kD} \\ln \\left( \\frac r \\lambda \\right) $$"
   ]
  },
  {
   "cell_type": "code",
   "execution_count": 34,
   "metadata": {
    "collapsed": true
   },
   "outputs": [],
   "source": [
    "import numpy as np\n",
    "import matplotlib.pyplot as plt\n",
    "from scipy.special import k0\n",
    "import scipy\n",
    "\n",
    "K0 = scipy.special.k0\n",
    "\n",
    "\n",
    "Q = 1200 # m3/d\n",
    "kD = 900 # m2/d\n",
    "r = 150 # m\n",
    "R = 750 # m\n",
    "c = 350 # d\n",
    "lam = np.sqrt(kD * c)\n",
    "r = np.logspace(-2, 4, 41)"
   ]
  },
  {
   "cell_type": "code",
   "execution_count": 35,
   "metadata": {
    "collapsed": false
   },
   "outputs": [],
   "source": [
    "s1 = Q / (2 * np.pi * kD) * np.log(R /r)\n",
    "s2 = Q / (2 * np.pi * kD) * k0(r / lam)\n",
    "\n"
   ]
  },
  {
   "cell_type": "code",
   "execution_count": 44,
   "metadata": {
    "collapsed": false
   },
   "outputs": [
    {
     "data": {
      "image/png": "[encoded data removed]",
      "text/plain": [
       "<matplotlib.figure.Figure at 0x1127d5710>"
      ]
     },
     "metadata": {},
     "output_type": "display_data"
    }
   ],
   "source": [
    "fig = plt.figure()\n",
    "ax = fig.add_subplot(111)\n",
    "ax.set(xlabel='r [m]', ylabel='head [m]', xscale='log')\n",
    "ax.plot(r, s1, 'r', linewidth=3, label='confined')\n",
    "ax.plot(r, s2, 'go-', label='semi-confined')\n",
    "ax.invert_yaxis()\n",
    "ax.legend(loc='best', fontsize='xx-small')\n",
    "plt.show()"
   ]
  },
  {
   "cell_type": "markdown",
   "metadata": {},
   "source": [
    "This is the result\n",
    "\n",
    "Next one:"
   ]
  },
  {
   "cell_type": "code",
   "execution_count": 45,
   "metadata": {
    "collapsed": false
   },
   "outputs": [
    {
     "data": {
      "text/plain": [
       "900"
      ]
     },
     "execution_count": 45,
     "metadata": {},
     "output_type": "execute_result"
    }
   ],
   "source": [
    "kD\n"
   ]
  },
  {
   "cell_type": "code",
   "execution_count": 46,
   "metadata": {
    "collapsed": false
   },
   "outputs": [
    {
     "data": {
      "text/plain": [
       "561.24860801609123"
      ]
     },
     "execution_count": 46,
     "metadata": {},
     "output_type": "execute_result"
    }
   ],
   "source": [
    "lam"
   ]
  },
  {
   "cell_type": "code",
   "execution_count": 47,
   "metadata": {
    "collapsed": false
   },
   "outputs": [
    {
     "data": {
      "text/plain": [
       "<ufunc 'k0'>"
      ]
     },
     "execution_count": 47,
     "metadata": {},
     "output_type": "execute_result"
    }
   ],
   "source": [
    "k0"
   ]
  },
  {
   "cell_type": "code",
   "execution_count": null,
   "metadata": {
    "collapsed": true
   },
   "outputs": [],
   "source": []
  }
 ],
 "metadata": {
  "kernelspec": {
   "display_name": "Python [default]",
   "language": "python",
   "name": "python3"
  },
  "language_info": {
   "codemirror_mode": {
    "name": "ipython",
    "version": 3
   },
   "file_extension": ".py",
   "mimetype": "text/x-python",
   "name": "python",
   "nbconvert_exporter": "python",
   "pygments_lexer": "ipython3",
   "version": "3.5.2"
  }
 },
 "nbformat": 4,
 "nbformat_minor": 1
}
