{
 "cells": [
  {
   "cell_type": "markdown",
   "metadata": {},
   "source": [
    "# Hantush type curves\n",
    "\n",
    "## Type curve, Hantush's well function\n",
    "\n",
    "Hantush's well function involves leakage from an overlying layer. The leakage is parameterized by the characteristic length, with the simbol $\\lambda$\n",
    "\n",
    "$$ \\lambda = \\sqrt{ kD c}$$\n",
    "\n",
    "where $c$ [dimentions time] is the vertical resistance of the overlying aquitard. It can also be expressed as $c = b/k_v$ with $b$ the thickness of the overlying aquitard and $k_v$ its averaged vertical conductivity.\n",
    "\n",
    "with $\\rho = r/\\lambda$, Hantush's well function is given by\n",
    "\n",
    "$$ W_h(u, \\rho) = \\intop_u^\\infty \\frac {e^{-y - \\frac{ \\left( \\frac {\\rho} 2 \\right)^2} {y}}} {y}  dy $$\n",
    "\n"
   ]
  },
  {
   "cell_type": "code",
   "execution_count": 1,
   "metadata": {
    "collapsed": true
   },
   "outputs": [],
   "source": [
    "import numpy as np\n",
    "import matplotlib.pyplot as plt\n",
    "import scipy.special as sp"
   ]
  },
  {
   "cell_type": "markdown",
   "metadata": {},
   "source": [
    "## Compute Hantush's well function by integration"
   ]
  },
  {
   "cell_type": "code",
   "execution_count": 17,
   "metadata": {
    "collapsed": true
   },
   "outputs": [],
   "source": [
    "def Wh(u, rho):\n",
    "    '''Hantush's well function (with leakage)\n",
    "    parameters\n",
    "    ----------\n",
    "    u : array of floats\n",
    "    rho : float\n",
    "    returns\n",
    "    -------\n",
    "    Wh : array like u with Hantush's well function values\n",
    "    2018-01-12\n",
    "    '''\n",
    "    \n",
    "    if np.isscalar(u): # u is a scalar?\n",
    "        u = np.asarray([u]) # if so, turn it into an array\n",
    "\n",
    "    w = np.zeros_like(u) # outcome array, initially all zeros\n",
    "    \n",
    "    for i, uu in enumerate(u):  # loop ver all values of u array\n",
    "        y    = np.logspace(np.log10(uu), 8, 201)\n",
    "        ym   = 0.5 * (y[:-1] + y[1:]) # y of midpoints\n",
    "        arg  = np.exp(-ym - (rho/2)**2 /ym) / ym # arg at midpoints\n",
    "        dy   = np.diff(y)       # same as y[1:] - y[:-1]\n",
    "        w[i] = np.sum(arg * dy) # integration\n",
    "    \n",
    "    if len(u) == 1: # u was a scalar?\n",
    "        return w[0] # then return first value of array w\n",
    "    else:           # otherwise\n",
    "        return w    # return the entire array of values\n"
   ]
  },
  {
   "cell_type": "markdown",
   "metadata": {},
   "source": [
    "With `Wh(u, rho)` in place, we can now plot the Hantush type curves, i.e. the graphs of `Wh(u, rho)` versus `1/u` for different values of `rho`."
   ]
  },
  {
   "cell_type": "code",
   "execution_count": 23,
   "metadata": {},
   "outputs": [
    {
     "data": {
      "image/png": "[encoded data removed]",
      "text/plain": [
       "<matplotlib.figure.Figure at 0x1518045940>"
      ]
     },
     "metadata": {},
     "output_type": "display_data"
    }
   ],
   "source": [
    "u = np.logspace(-6, 1) # suitable range for values of u\n",
    "Rho = [0.0, 0.01, 0.03, 0.1, 0.3, 1, 3 ] # some values of rho\n",
    "\n",
    "# notice that for rho=0, W_Hantush = W_Theis\n",
    "\n",
    "for rho in Rho: # for each rho plot one line\n",
    "    plt.plot(1/u, Wh(u, rho), label='rho={:.2f}'.format(rho))\n",
    "\n",
    "# embellishment of plot\n",
    "plt.title('Hantush type curves')\n",
    "plt.xlabel('1/u')\n",
    "plt.ylabel('Wh(u)')\n",
    "plt.xscale('log')   # x axis on log scale\n",
    "plt.yscale('log')   # y axis on log scale\n",
    "plt.legend()\n",
    "plt.grid()\n",
    "plt.show() # show it"
   ]
  },
  {
   "cell_type": "markdown",
   "metadata": {},
   "source": [
    "## Example, drawdown for a concrete case, using `Wh(u, rho)`"
   ]
  },
  {
   "cell_type": "code",
   "execution_count": 35,
   "metadata": {},
   "outputs": [
    {
     "name": "stdout",
     "output_type": "stream",
     "text": [
      "Drawdown at r=25.0 m and t=1.2 d equals s=0.46 m\n"
     ]
    }
   ],
   "source": [
    "kD   = 500 # m2/d\n",
    "S    = 0.2 # [-]\n",
    "c    = 600 # d\n",
    "t    = 1.2 # d\n",
    "r    = 25. # m\n",
    "Q    = 1200 # m3/d\n",
    "lamb = np.sqrt(kD * c)\n",
    "u    = r**2 * S / (4 * kD * t)\n",
    "rho  = r/lamb\n",
    "\n",
    "s    = Q/(4 * np.pi * kD) * Wh(u, rho)\n",
    "\n",
    "print('Drawdown at r={} m and t={} d equals s={:.2f} m'.format(r, t, s[0]))"
   ]
  }
 ],
 "metadata": {
  "kernelspec": {
   "display_name": "Python 3",
   "language": "python",
   "name": "python3"
  },
  "language_info": {
   "codemirror_mode": {
    "name": "ipython",
    "version": 3
   },
   "file_extension": ".py",
   "mimetype": "text/x-python",
   "name": "python",
   "nbconvert_exporter": "python",
   "pygments_lexer": "ipython3",
   "version": "3.6.3"
  }
 },
 "nbformat": 4,
 "nbformat_minor": 2
}
