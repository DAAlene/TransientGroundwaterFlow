{
 "cells": [
  {
   "cell_type": "markdown",
   "metadata": {},
   "source": [
    "# Hantush type curves\n",
    "\n",
    "## Version 1, as a power series\n",
    "\n",
    "$$ W_h(u, \\rho) = \\sum_{n=0}^{\\infty}\\frac {-1^n} {n!} \\left( \\frac \\rho 2 \\right)^{2n} u^{-n} E_{n+1}\\left(\\frac {\\rho^2} {4 u} \\right) $$\n",
    "\n",
    "$$ E_{n+1} = \\frac 1 n \\left[ e^{-u} - u E_n (u) \\right] , \\,\\,(n=1, 2, 3, ...) $$"
   ]
  },
  {
   "cell_type": "code",
   "execution_count": 32,
   "metadata": {
    "collapsed": true
   },
   "outputs": [],
   "source": [
    "import numpy as np\n",
    "import matplotlib.pyplot as plt\n",
    "import scipy.special as sp"
   ]
  },
  {
   "cell_type": "code",
   "execution_count": 60,
   "metadata": {
    "collapsed": true
   },
   "outputs": [],
   "source": [
    "def Ws(u=u, rho=rho):\n",
    "    w    = 0.\n",
    "    r2u  = (rho/2) ** 2 / u\n",
    "    term =  sp.exp1(r2u)\n",
    "    E0   = sp.exp1(r2u)\n",
    "    w    = term\n",
    "    for n in range(1, 11):\n",
    "        E1 = (1/n) * (np.exp(-r2u) - r2u * E0)\n",
    "        term = term * (-1)/(n+1) * (rho/2) ** 2 / u * E1/E0\n",
    "        w += term\n",
    "        E0 = E1\n",
    "    return w"
   ]
  },
  {
   "cell_type": "code",
   "execution_count": 61,
   "metadata": {},
   "outputs": [
    {
     "data": {
      "text/plain": [
       "1.2226505441838931"
      ]
     },
     "execution_count": 61,
     "metadata": {},
     "output_type": "execute_result"
    }
   ],
   "source": [
    "Ws(u=0.2, rho=0.1)\n",
    "sp.exp1(0.2)"
   ]
  },
  {
   "cell_type": "markdown",
   "metadata": {},
   "source": [
    "## Version 2, integration"
   ]
  },
  {
   "cell_type": "code",
   "execution_count": 62,
   "metadata": {},
   "outputs": [],
   "source": [
    "def W(u, rho):\n",
    "    if np.isscalar(u):\n",
    "        u = np.asarray([u])\n",
    "\n",
    "    w = np.zeros_like(u)\n",
    "    for i, uu in enumerate(u):\n",
    "        y = np.logspace(np.log10(uu), 1)\n",
    "        arg = np.exp(-y - (rho/2) ** 2 / y ) / y\n",
    "        w[i] = np.sum(np.diff(y) * 0.5 * (arg[:-1]+ arg[1:]))\n",
    "    return w"
   ]
  },
  {
   "cell_type": "code",
   "execution_count": 63,
   "metadata": {},
   "outputs": [
    {
     "data": {
      "text/plain": [
       "array([ 1.21815738])"
      ]
     },
     "execution_count": 63,
     "metadata": {},
     "output_type": "execute_result"
    }
   ],
   "source": [
    "W(0.2, 0.1)"
   ]
  },
  {
   "cell_type": "code",
   "execution_count": 64,
   "metadata": {},
   "outputs": [
    {
     "data": {
      "text/plain": [
       "True"
      ]
     },
     "execution_count": 64,
     "metadata": {},
     "output_type": "execute_result"
    }
   ],
   "source": [
    "np.isscalar(0.3)"
   ]
  },
  {
   "cell_type": "code",
   "execution_count": 65,
   "metadata": {},
   "outputs": [
    {
     "data": {
      "image/png": "[encoded data removed]",
      "text/plain": [
       "<matplotlib.figure.Figure at 0x1515922a58>"
      ]
     },
     "metadata": {},
     "output_type": "display_data"
    }
   ],
   "source": [
    "rhos = [0., 0.1, 0.3, 1, 3]\n",
    "\n",
    "u = np.logspace(-6, 1, 71)\n",
    "\n",
    "plt.title('Hantush type curves')\n",
    "plt.xscale('log')\n",
    "plt.yscale('log')\n",
    "plt.grid()\n",
    "for rho in rhos:\n",
    "    w = W(u, rho)\n",
    "    plt.plot(1/u, w, label='rho={:.1f}'.format(rho))\n",
    "    \n",
    "plt.legend()\n",
    "plt.show()"
   ]
  },
  {
   "cell_type": "code",
   "execution_count": null,
   "metadata": {
    "collapsed": true
   },
   "outputs": [],
   "source": []
  }
 ],
 "metadata": {
  "kernelspec": {
   "display_name": "Python 3",
   "language": "python",
   "name": "python3"
  },
  "language_info": {
   "codemirror_mode": {
    "name": "ipython",
    "version": 3
   },
   "file_extension": ".py",
   "mimetype": "text/x-python",
   "name": "python",
   "nbconvert_exporter": "python",
   "pygments_lexer": "ipython3",
   "version": "3.6.3"
  }
 },
 "nbformat": 4,
 "nbformat_minor": 2
}
