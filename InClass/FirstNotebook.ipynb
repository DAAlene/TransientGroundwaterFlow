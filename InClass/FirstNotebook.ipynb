{
 "cells": [
  {
   "cell_type": "markdown",
   "metadata": {},
   "source": [
    "# Title\n",
    "\n",
    "## Subtitle\n",
    "\n",
    "And this *bold* not **bold** because $sin(x \\sqrt{ 4 \\pi x^5}) $ is\n",
    "\n",
    "$$ s = \\frac{Q}{2 \\pi kD} \\ln \\left( \\frac{R}{r} \\right)$$\n",
    "\n",
    "etc\n",
    "\n",
    "$$ W \\left(u, \\frac{\\rho}{\\lambda}\\right) =\n",
    "\\intop_u^\\infty $$\n",
    "$$\\frac{e^{-y - \\frac{\\frac{\\rho}\\{lambda}}{y}}}{y} dy\n",
    "$$\n",
    "\n"
   ]
  },
  {
   "cell_type": "code",
   "execution_count": 1,
   "metadata": {},
   "outputs": [],
   "source": [
    "import numpy as np\n",
    "import matplotlib.pyplot as plt"
   ]
  },
  {
   "cell_type": "code",
   "execution_count": 2,
   "metadata": {},
   "outputs": [
    {
     "name": "stdout",
     "output_type": "stream",
     "text": [
      "[-3.         -2.93939394 -2.87878788 -2.81818182 -2.75757576 -2.6969697\n",
      " -2.63636364 -2.57575758 -2.51515152 -2.45454545 -2.39393939 -2.33333333\n",
      " -2.27272727 -2.21212121 -2.15151515 -2.09090909 -2.03030303 -1.96969697\n",
      " -1.90909091 -1.84848485 -1.78787879 -1.72727273 -1.66666667 -1.60606061\n",
      " -1.54545455 -1.48484848 -1.42424242 -1.36363636 -1.3030303  -1.24242424\n",
      " -1.18181818 -1.12121212 -1.06060606 -1.         -0.93939394 -0.87878788\n",
      " -0.81818182 -0.75757576 -0.6969697  -0.63636364 -0.57575758 -0.51515152\n",
      " -0.45454545 -0.39393939 -0.33333333 -0.27272727 -0.21212121 -0.15151515\n",
      " -0.09090909 -0.03030303  0.03030303  0.09090909  0.15151515  0.21212121\n",
      "  0.27272727  0.33333333  0.39393939  0.45454545  0.51515152  0.57575758\n",
      "  0.63636364  0.6969697   0.75757576  0.81818182  0.87878788  0.93939394\n",
      "  1.          1.06060606  1.12121212  1.18181818  1.24242424  1.3030303\n",
      "  1.36363636  1.42424242  1.48484848  1.54545455  1.60606061  1.66666667\n",
      "  1.72727273  1.78787879  1.84848485  1.90909091  1.96969697  2.03030303\n",
      "  2.09090909  2.15151515  2.21212121  2.27272727  2.33333333  2.39393939\n",
      "  2.45454545  2.51515152  2.57575758  2.63636364  2.6969697   2.75757576\n",
      "  2.81818182  2.87878788  2.93939394  3.        ]\n",
      "[-2.52441295e+00 -2.44082812e+00 -2.35761148e+00 -2.27483779e+00\n",
      " -2.19258105e+00 -2.11091446e+00 -2.02991039e+00 -1.94964028e+00\n",
      " -1.87017466e+00 -1.79158308e+00 -1.71393406e+00 -1.63729504e+00\n",
      " -1.56173237e+00 -1.48731124e+00 -1.41409564e+00 -1.34214833e+00\n",
      " -1.27153083e+00 -1.20230330e+00 -1.13452459e+00 -1.06825217e+00\n",
      " -1.00354206e+00 -9.40448849e-01 -8.79025643e-01 -8.19324017e-01\n",
      " -7.61394000e-01 -7.05284036e-01 -6.51040957e-01 -5.98709956e-01\n",
      " -5.48334555e-01 -4.99956579e-01 -4.53616134e-01 -4.09351579e-01\n",
      " -3.67199501e-01 -3.27194697e-01 -2.89370149e-01 -2.53757005e-01\n",
      " -2.20384561e-01 -1.89280240e-01 -1.60469578e-01 -1.33976207e-01\n",
      " -1.09821843e-01 -8.80262664e-02 -6.86073174e-02 -5.15808806e-02\n",
      " -3.69608762e-02 -2.47592519e-02 -1.49859752e-02 -7.64902761e-03\n",
      " -2.75439934e-03 -3.06086010e-04  3.06086010e-04  2.75439934e-03\n",
      "  7.64902761e-03  1.49859752e-02  2.47592519e-02  3.69608762e-02\n",
      "  5.15808806e-02  6.86073174e-02  8.80262664e-02  1.09821843e-01\n",
      "  1.33976207e-01  1.60469578e-01  1.89280240e-01  2.20384561e-01\n",
      "  2.53757005e-01  2.89370149e-01  3.27194697e-01  3.67199501e-01\n",
      "  4.09351579e-01  4.53616134e-01  4.99956579e-01  5.48334555e-01\n",
      "  5.98709956e-01  6.51040957e-01  7.05284036e-01  7.61394000e-01\n",
      "  8.19324017e-01  8.79025643e-01  9.40448849e-01  1.00354206e+00\n",
      "  1.06825217e+00  1.13452459e+00  1.20230330e+00  1.27153083e+00\n",
      "  1.34214833e+00  1.41409564e+00  1.48731124e+00  1.56173237e+00\n",
      "  1.63729504e+00  1.71393406e+00  1.79158308e+00  1.87017466e+00\n",
      "  1.94964028e+00  2.02991039e+00  2.11091446e+00  2.19258105e+00\n",
      "  2.27483779e+00  2.35761148e+00  2.44082812e+00  2.52441295e+00]\n"
     ]
    },
    {
     "data": {
      "text/plain": [
       "[<matplotlib.lines.Line2D at 0x120052dd8>]"
      ]
     },
     "execution_count": 2,
     "metadata": {},
     "output_type": "execute_result"
    },
    {
     "data": {
      "image/png": "[encoded data removed]",
      "text/plain": [
       "<Figure size 432x288 with 1 Axes>"
      ]
     },
     "metadata": {
      "needs_background": "light"
     },
     "output_type": "display_data"
    }
   ],
   "source": [
    "x  = np.linspace(-3, 3, 100)\n",
    "y = np.sin(x / 3) * np.sqrt(x ** 2)\n",
    "print(x)\n",
    "print(y)\n",
    "\n",
    "plt.plot(x, y)\n",
    "\n"
   ]
  },
  {
   "cell_type": "code",
   "execution_count": 4,
   "metadata": {},
   "outputs": [
    {
     "name": "stdout",
     "output_type": "stream",
     "text": [
      "7\n"
     ]
    }
   ],
   "source": [
    "a = 3\n",
    "b = 4\n",
    "print(a + b)"
   ]
  },
  {
   "cell_type": "code",
   "execution_count": 3,
   "metadata": {},
   "outputs": [
    {
     "data": {
      "text/plain": [
       "3"
      ]
     },
     "execution_count": 3,
     "metadata": {},
     "output_type": "execute_result"
    }
   ],
   "source": [
    "a"
   ]
  },
  {
   "cell_type": "code",
   "execution_count": null,
   "metadata": {},
   "outputs": [],
   "source": []
  }
 ],
 "metadata": {
  "kernelspec": {
   "display_name": "Python 3",
   "language": "python",
   "name": "python3"
  },
  "language_info": {
   "codemirror_mode": {
    "name": "ipython",
    "version": 3
   },
   "file_extension": ".py",
   "mimetype": "text/x-python",
   "name": "python",
   "nbconvert_exporter": "python",
   "pygments_lexer": "ipython3",
   "version": "3.6.7"
  }
 },
 "nbformat": 4,
 "nbformat_minor": 2
}
