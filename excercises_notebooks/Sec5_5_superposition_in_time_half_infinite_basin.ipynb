{
 "cells": [
  {
   "cell_type": "markdown",
   "metadata": {},
   "source": [
    "# Section 5.5 superposition in time.\n",
    "# Simulating varying head at x=0 using a sequence of sudden changes of head at $x=0$ and $t=0$\n",
    "\n",
    "IHE, Delft, 20120-01-06\n",
    "\n",
    "@T.N.Olsthoorn\n",
    "\n",
    "## Context\n",
    "\n",
    "The aquifer is considered of constant transmissivity $kD$ and storage coefficient $S$ and to extend from $0 \\le x \\le \\infty$.\n",
    "\n",
    "The partial differential equation is\n",
    "\n",
    "$$ kD \\frac {\\partial^2 s} {\\partial x} = S \\frac {\\partial s} {\\partial t}  $$\n",
    "\n",
    "The solution for a sudden change of head equal to $A [m]$ at $x=0$ and $t = 0$ is\n",
    "\n",
    "$$ s(x, t) = A \\,\\mathtt{erfc}(u), \\,\\,\\,\\, u=\\sqrt{\\frac {x^2 S} {4 kD t}} $$\n",
    "\n",
    "where $\\mathtt {erfc} () $ is the so-called complementary error function:\n",
    "\n",
    "$$ \\mathtt {erfc} (z) = \\frac 2 {\\sqrt {\\pi} } \\intop _z ^\\infty e ^{-y^2}dy $$\n",
    "\n",
    "And so its derivative is\n",
    "\n",
    "$$ \\frac {d \\mathtt{erfc}(z)} {d z} = - \\frac 2 {\\sqrt {\\pi}} e ^{-z^2} $$\n",
    "\n",
    "Therefore, the discharge equals\n",
    "\n",
    "$$ Q = -kD \\frac {\\partial s} {\\partial x} = A \\sqrt{\\frac {kDS} {\\pi t}} \\mathtt{exp} \\left( -u^2 \\right) $$\n",
    "\n",
    "and for $ x = 0 $\n",
    "\n",
    "$$ Q_0 = A \\sqrt{\\frac {kD S} {\\pi t}}$$"
   ]
  },
  {
   "cell_type": "markdown",
   "metadata": {},
   "source": [
    "## Superposition\n",
    "\n",
    "Any varying head can be approximated using a series of constant heads over short time intervals. This allows to use de 1D solution for a sudden head change to simulate the effect on an aquifer of a varying river head. It is assumed that the aquifer is in direct good contact with the surface water at $x=0$.\n",
    "\n",
    "The superpostion may be written as\n",
    "\n",
    "$$ s(x, t) = \\sum _{i=1} ^{N} \\left\\{ A_i \\mathtt{erfc} \n",
    "\\sqrt{\\frac {x^2 S} {4 kD (t - t_i)}} \\right\\}, \\,\\,\\, t \\ge t_i $$\n",
    "\n",
    "Clearly, $a$ term $i$ is non-existent when $t < t_i$.\n",
    "\n",
    "This formula can be computed by looping over the amplituces and times pertaining to each moment on which the amplitude changes.\n",
    "\n",
    "With a series of amplitudues A, what matters is the change of amplitude. So we need\n",
    "\n",
    "$$ A = A_0, A_1 - A_0, A_2 - A_1, ... A_n - A_{n-1} $$"
   ]
  },
  {
   "cell_type": "markdown",
   "metadata": {},
   "source": [
    "## Loading modules"
   ]
  },
  {
   "cell_type": "code",
   "execution_count": 1,
   "metadata": {},
   "outputs": [],
   "source": [
    "import numpy as np\n",
    "from scipy.special import erfc\n",
    "from matplotlib import pyplot as plt\n",
    "from matplotlib import animation, rc\n",
    "from matplotlib.animation import FuncAnimation\n",
    "from matplotlib.patches import PathPatch, Path\n",
    "from IPython.display import HTML\n",
    "from scipy.special import erfc\n",
    "import pdb"
   ]
  },
  {
   "cell_type": "markdown",
   "metadata": {},
   "source": [
    "## Convenience function to set up a graph"
   ]
  },
  {
   "cell_type": "code",
   "execution_count": 2,
   "metadata": {},
   "outputs": [],
   "source": [
    "def newfig(title='?', xlabel='?', ylabel='?', xlim=None, ylim=None,\n",
    "                   xscale='linear', yscale='linear', size_inches=(14, 8), fontsize=15):\n",
    "    '''Setup a new axis for plotting'''\n",
    "    fig, ax = plt.subplots()\n",
    "    fig.set_size_inches(size_inches)\n",
    "    ax.set_title(title, fontsize=fontsize)\n",
    "    ax.set_xlabel(xlabel, fontsize=fontsize)\n",
    "    ax.set_ylabel(ylabel, fontsize=fontsize)\n",
    "    ax.set_xscale(xscale)\n",
    "    ax.set_yscale(yscale)\n",
    "    if xlim is not None: ax.set_xlim(xlim)\n",
    "    if ylim is not None: ax.set_ylim(ylim)\n",
    "    ax.grid(True)\n",
    "    return ax"
   ]
  },
  {
   "cell_type": "markdown",
   "metadata": {},
   "source": [
    "## Implementation"
   ]
  },
  {
   "cell_type": "code",
   "execution_count": 65,
   "metadata": {},
   "outputs": [
    {
     "name": "stdout",
     "output_type": "stream",
     "text": [
      "A  =    1.5    0.5    1.0   -1.2    0.5   -1.8    0.3   -3.0    1.0    0.5   -0.3  [m]\n",
      "dA =    1.5   -1.0    0.5   -2.2    1.7   -2.3    2.1   -3.3    4.0   -0.5   -0.8  [m]\n",
      "tc =    1.5    1.8    6.3    8.6    8.9   12.3   22.3   22.5   23.7   29.3   29.9  [d]\n"
     ]
    },
    {
     "data": {
      "text/plain": [
       "<matplotlib.legend.Legend at 0x7fed9896d910>"
      ]
     },
     "execution_count": 65,
     "metadata": {},
     "output_type": "execute_result"
    },
    {
     "data": {
      "image/png": "[encoded data removed]",
      "text/plain": [
       "<Figure size 1008x576 with 1 Axes>"
      ]
     },
     "metadata": {
      "needs_background": "light"
     },
     "output_type": "display_data"
    }
   ],
   "source": [
    "# aquifer properties\n",
    "kD = 900 # m2/d\n",
    "S = 0.1 # [-]\n",
    "\n",
    "# A  is the water level at x=0 at the change times tc\n",
    "A    = np.array([1.5, 0.5, 1.0, -1.2, 0.5, -1.8, 0.3, -3, 1, 0.5, -0.3]) # m\n",
    "tend = 30\n",
    "tc   = tend * np.random.rand(len(A)) # switch times\n",
    "tc.sort()\n",
    "\n",
    "dA   = np.diff(np.hstack((0, A))) # m, the head changes at x=0 at the change times\n",
    "\n",
    "# show the switch times s0 and A\n",
    "ax = newfig('River stage', 'time [m]', 's(x, t) [m]')\n",
    "\n",
    "# this is an advanced way of neatly printed a line of formatted numbers\n",
    "# making sure that the numbers in both lines are exactly above each other\n",
    "# you could also just print(s0) and print(A)\n",
    "print('A  = ' + ' '.join([f'{a:6.1f}' for a in A]) + '  [m]')\n",
    "print('dA = ' + ' '.join([f'{dai:6.1f}' for dai in dA]) + '  [m]')\n",
    "print('tc = ' + ' '.join([f'{tci:6.1f}' for tci in tc]) + '  [d]')\n",
    "    \n",
    "\n",
    "# plot the amplitudes and their changes\n",
    "ax.step(tc, A, 'k', label=\"s0 = river\", lw=3, where='post')\n",
    "#ax.step(tc, A, label='dA = change', where='post')\n",
    "ax.legend()\n"
   ]
  },
  {
   "cell_type": "markdown",
   "metadata": {},
   "source": [
    "# Simulation by superposition in time"
   ]
  },
  {
   "cell_type": "code",
   "execution_count": 63,
   "metadata": {},
   "outputs": [
    {
     "name": "stdout",
     "output_type": "stream",
     "text": [
      "Patience, computing and generating video takes about 30 sec. on mac...\n",
      "101  frames saved.\n",
      "ffmpeg version 3.2.1 Copyright (c) 2000-2016 the FFmpeg developers\n",
      "  built with llvm-gcc 4.2.1 (LLVM build 2336.11.00)\n",
      "  configuration: --prefix=/Volumes/Ramdisk/sw --enable-gpl --enable-pthreads --enable-version3 --enable-libspeex --enable-libvpx --disable-decoder=libvpx --enable-libmp3lame --enable-libtheora --enable-libvorbis --enable-libx264 --enable-avfilter --enable-libopencore_amrwb --enable-libopencore_amrnb --enable-filters --enable-libgsm --enable-libvidstab --enable-libx265 --disable-doc --arch=x86_64 --enable-runtime-cpudetect\n",
      "  libavutil      55. 34.100 / 55. 34.100\n",
      "  libavcodec     57. 64.101 / 57. 64.101\n",
      "  libavformat    57. 56.100 / 57. 56.100\n",
      "  libavdevice    57.  1.100 / 57.  1.100\n",
      "  libavfilter     6. 65.100 /  6. 65.100\n",
      "  libswscale      4.  2.100 /  4.  2.100\n",
      "  libswresample   2.  3.100 /  2.  3.100\n",
      "  libpostproc    54.  1.100 / 54.  1.100\n",
      "Input #0, mov,mp4,m4a,3gp,3g2,mj2, from 'Sudden_changes_super_position_in_t.mp4':\n",
      "  Metadata:\n",
      "    major_brand     : isom\n",
      "    minor_version   : 512\n",
      "    compatible_brands: isomiso2avc1mp41\n",
      "    encoder         : Lavf57.56.100\n",
      "  Duration: 00:00:05.05, start: 0.000000, bitrate: 85 kb/s\n",
      "    Stream #0:0(und): Video: h264 (High) (avc1 / 0x31637661), yuv420p, 1008x576, 82 kb/s, 20 fps, 20 tbr, 10240 tbn, 40 tbc (default)\n",
      "    Metadata:\n",
      "      handler_name    : VideoHandler\n",
      "\u001b[1;34m[swscaler @ 0x7fb59a13e000] \u001b[0m\u001b[0;33mNo accelerated colorspace conversion found from yuv420p to bgr8.\n",
      "\u001b[0mOutput #0, gif, to 'Sudden_changes_super_position_in_t.gif':\n",
      "  Metadata:\n",
      "    major_brand     : isom\n",
      "    minor_version   : 512\n",
      "    compatible_brands: isomiso2avc1mp41\n",
      "    encoder         : Lavf57.56.100\n",
      "    Stream #0:0(und): Video: gif, bgr8, 1008x576, q=2-31, 200 kb/s, 20 fps, 100 tbn, 20 tbc (default)\n",
      "    Metadata:\n",
      "      handler_name    : VideoHandler\n",
      "      encoder         : Lavc57.64.101 gif\n",
      "Stream mapping:\n",
      "  Stream #0:0 -> #0:0 (h264 (native) -> gif (native))\n",
      "Press [q] to stop, [?] for help\n",
      "frame=  101 fps=0.0 q=-0.0 Lsize=     153kB time=00:00:05.01 bitrate= 250.4kbits/s speed=19.1x    \n",
      "video:152kB audio:0kB subtitle:0kB other streams:0kB global headers:0kB muxing overhead: 1.036901%\n"
     ]
    }
   ],
   "source": [
    "times = np.linspace(0, tend, 101) # simulatioin times in days\n",
    "x = 150. # choose a value for x for which the graphs will be made\n",
    "# plot heads\n",
    "ax = newfig(f\"Effect of varying river stage on groundwater at $x$={x:.0f}\", 'time [d]',\n",
    "            'head change relative to river stage [m]')\n",
    "fig = ax.figure\n",
    "\n",
    "lines = []\n",
    "Y = np.zeros((len(dA) + 2, len(times)))\n",
    "\n",
    "s = np.zeros_like(times)\n",
    "for tci, Ai in zip(tc, A): # Switch times and jumps\n",
    "    s[times > tci] = Ai\n",
    "line, = ax.plot(times, s, 'b', lw=3, label=\"River level\")\n",
    "Y[0] = s\n",
    "lines.append(line)\n",
    "\n",
    "s = np.zeros_like(times)\n",
    "for it, (tci, dAi) in enumerate(zip(tc, dA)): # Switch times and jumps\n",
    "    u = np.sqrt((x**2 * S)/(4 * kD * (times[times > tci] - tci)))     \n",
    "    ds = dAi * erfc(u)  # logical indexing\n",
    "    Y[it + 1][times > tci] = ds\n",
    "    line, = ax.plot(times[times > tci], ds, label=f'tc = {tci:.0f} d')\n",
    "    lines.append(line)\n",
    "    s[times > tci] += ds\n",
    "line, = ax.plot(times, s, 'k', lw=3, label=\"Sum\")\n",
    "lines.append(line)\n",
    "Y[-1] = line.get_ydata()\n",
    "\n",
    "text = ax.text(0.25, 0.8, 't = {:5.2f}'.format(0), transform=ax.transAxes, fontsize=15, \n",
    "        bbox=dict(boxstyle='round', facecolor='gray', alpha=0.3))\n",
    "ax.legend(loc='lower left')\n",
    "\n",
    "def init():\n",
    "    global lines, text\n",
    "    for line in lines:\n",
    "        line.set_data([], [])\n",
    "    text.set_text('t = {:5.2f}'.format(0))\n",
    "    return lines + [text]\n",
    "\n",
    "def animate(it):\n",
    "    global lines, times\n",
    "    for y, line in zip(Y, lines):\n",
    "        line.set_data(times[:it], y[:it])\n",
    "    text.set_text('t = {:5.2f} d'.format(times[it]))\n",
    "    return lines + [text]\n",
    "\n",
    "# call the animator.  blit=True means only re-draw the parts that have changed.\n",
    "print(\"Patience, computing and generating video takes about 30 sec. on mac...\")\n",
    "anim = animation.FuncAnimation(fig, animate, init_func=init,\n",
    "                               frames=len(times), fargs=(),\n",
    "                               interval=20, blit=True, repeat=False)\n",
    "\n",
    "plt.close(anim._fig)\n",
    "if False:\n",
    "    out = HTML(anim.to_html5_video())\n",
    "    out\n",
    "else:\n",
    "    anim.save('Sudden_changes_super_position_in_t.mp4', fps=20, extra_args=['-vcodec', 'libx264'])\n",
    "    print(anim.save_count, \" frames saved.\")\n",
    "    !ffmpeg -i Sudden_changes_super_position_in_t.mp4 -y Sudden_changes_super_position_in_t.gif\n",
    "#out"
   ]
  },
  {
   "cell_type": "code",
   "execution_count": 64,
   "metadata": {},
   "outputs": [
    {
     "data": {
      "text/plain": [
       "'/Users/Theo/Instituten-Groepen-Overleggen/IHE/git/TransientGroundwaterFlow/excercises_notebooks'"
      ]
     },
     "execution_count": 64,
     "metadata": {},
     "output_type": "execute_result"
    }
   ],
   "source": [
    "pwd"
   ]
  },
  {
   "cell_type": "markdown",
   "metadata": {},
   "source": [
    "## The discharge at $x=0$\n",
    "\n",
    "The implementation of the discharge at $x=0$ is straightforward given the mathematical expression derived above."
   ]
  },
  {
   "cell_type": "code",
   "execution_count": 66,
   "metadata": {},
   "outputs": [
    {
     "data": {
      "text/plain": [
       "[<matplotlib.lines.Line2D at 0x7fed9e6ca610>]"
      ]
     },
     "execution_count": 66,
     "metadata": {},
     "output_type": "execute_result"
    },
    {
     "data": {
      "image/png": "[encoded data removed]",
      "text/plain": [
       "<Figure size 1008x576 with 1 Axes>"
      ]
     },
     "metadata": {
      "needs_background": "light"
     },
     "output_type": "display_data"
    }
   ],
   "source": [
    "t = np.linspace(0, 2 * len(tc), 1001.) # more points for more detail\n",
    "ax = newfig('Discharge Q [m2/d] at x=0', 'time [d]','Q [m2/d]')\n",
    "\n",
    "Q0 = np.zeros_like(t) # initialize the discharge as zeroes\n",
    "\n",
    "for tci, dAi in zip(tc, dA):\n",
    "    Q0[t > tci] += dAi * np.sqrt(kD * S / (np.pi * (t[t > tci] - tci)) )\n",
    "\n",
    "ax.plot(t, Q0, 'b', label='Q0')\n"
   ]
  },
  {
   "cell_type": "code",
   "execution_count": 74,
   "metadata": {},
   "outputs": [
    {
     "data": {
      "text/plain": [
       "0.0011482955912753257"
      ]
     },
     "execution_count": 74,
     "metadata": {},
     "output_type": "execute_result"
    }
   ],
   "source": [
    "from scipy.special import exp1\n",
    "exp1(5)"
   ]
  },
  {
   "cell_type": "code",
   "execution_count": null,
   "metadata": {},
   "outputs": [],
   "source": []
  }
 ],
 "metadata": {
  "kernelspec": {
   "display_name": "Python 3",
   "language": "python",
   "name": "python3"
  },
  "language_info": {
   "codemirror_mode": {
    "name": "ipython",
    "version": 3
   },
   "file_extension": ".py",
   "mimetype": "text/x-python",
   "name": "python",
   "nbconvert_exporter": "python",
   "pygments_lexer": "ipython3",
   "version": "3.7.7"
  }
 },
 "nbformat": 4,
 "nbformat_minor": 2
}
