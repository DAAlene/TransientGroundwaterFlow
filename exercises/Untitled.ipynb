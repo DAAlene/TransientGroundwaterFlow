{
 "cells": [
  {
   "cell_type": "markdown",
   "metadata": {},
   "source": [
    "exam answers"
   ]
  },
  {
   "cell_type": "code",
   "execution_count": 3,
   "metadata": {},
   "outputs": [],
   "source": [
    "import numpy as np\n",
    "from scipy.special import exp1\n",
    "import matplotlib.pyplot as plt"
   ]
  },
  {
   "cell_type": "code",
   "execution_count": 42,
   "metadata": {},
   "outputs": [
    {
     "data": {
      "image/png": "[encoded data removed]",
      "text/plain": [
       "<matplotlib.figure.Figure at 0x151483ed30>"
      ]
     },
     "metadata": {},
     "output_type": "display_data"
    }
   ],
   "source": [
    "Q = 1200\n",
    "kD = 600\n",
    "S = 0.02\n",
    "r = 100\n",
    "t = np.arange(10, 4 * 24 * 60 + 10, 10) / (24 * 60)\n",
    "\n",
    "u = r**2 * S / (4 * kD * t)\n",
    "s = Q/ (4 * np.pi * kD) * exp1(u)\n",
    "\n",
    "sigma = 0.002\n",
    "s = s + sigma * np.random.randn(len(t))\n",
    "\n",
    "plt.title('Pumping test drawdown, Q = {:.0f} m3/d'.format(Q))\n",
    "plt.xlabel('t --> [d]')\n",
    "plt.ylabel('<-- drawdown [m]')\n",
    "plt.plot(t, s, '.')\n",
    "plt.grid(True)\n",
    "plt.xscale('log')\n",
    "plt.ylim((np.max(s), np.min(s)))\n",
    "#plt.invert_yaxis()\n",
    "plt.show()\n"
   ]
  },
  {
   "cell_type": "code",
   "execution_count": null,
   "metadata": {
    "collapsed": true
   },
   "outputs": [],
   "source": []
  },
  {
   "cell_type": "code",
   "execution_count": 16,
   "metadata": {},
   "outputs": [
    {
     "data": {
      "text/plain": [
       "array([  10,   20,   30,   40,   50,   60,   70,   80,   90,  100,  110,\n",
       "        120,  130,  140,  150,  160,  170,  180,  190,  200,  210,  220,\n",
       "        230,  240,  250,  260,  270,  280,  290,  300,  310,  320,  330,\n",
       "        340,  350,  360,  370,  380,  390,  400,  410,  420,  430,  440,\n",
       "        450,  460,  470,  480,  490,  500,  510,  520,  530,  540,  550,\n",
       "        560,  570,  580,  590,  600,  610,  620,  630,  640,  650,  660,\n",
       "        670,  680,  690,  700,  710,  720,  730,  740,  750,  760,  770,\n",
       "        780,  790,  800,  810,  820,  830,  840,  850,  860,  870,  880,\n",
       "        890,  900,  910,  920,  930,  940,  950,  960,  970,  980,  990,\n",
       "       1000, 1010, 1020, 1030, 1040, 1050, 1060, 1070, 1080, 1090, 1100,\n",
       "       1110, 1120, 1130, 1140, 1150, 1160, 1170, 1180, 1190, 1200, 1210,\n",
       "       1220, 1230, 1240, 1250, 1260, 1270, 1280, 1290, 1300, 1310, 1320,\n",
       "       1330, 1340, 1350, 1360, 1370, 1380, 1390, 1400, 1410, 1420, 1430,\n",
       "       1440, 1450, 1460, 1470, 1480, 1490, 1500, 1510, 1520, 1530, 1540,\n",
       "       1550, 1560, 1570, 1580, 1590, 1600, 1610, 1620, 1630, 1640, 1650,\n",
       "       1660, 1670, 1680, 1690, 1700, 1710, 1720, 1730, 1740, 1750, 1760,\n",
       "       1770, 1780, 1790, 1800, 1810, 1820, 1830, 1840, 1850, 1860, 1870,\n",
       "       1880, 1890, 1900, 1910, 1920, 1930, 1940, 1950, 1960, 1970, 1980,\n",
       "       1990, 2000, 2010, 2020, 2030, 2040, 2050, 2060, 2070, 2080, 2090,\n",
       "       2100, 2110, 2120, 2130, 2140, 2150, 2160, 2170, 2180, 2190, 2200,\n",
       "       2210, 2220, 2230, 2240, 2250, 2260, 2270, 2280, 2290, 2300, 2310,\n",
       "       2320, 2330, 2340, 2350, 2360, 2370, 2380, 2390, 2400, 2410, 2420,\n",
       "       2430, 2440, 2450, 2460, 2470, 2480, 2490, 2500, 2510, 2520, 2530,\n",
       "       2540, 2550, 2560, 2570, 2580, 2590, 2600, 2610, 2620, 2630, 2640,\n",
       "       2650, 2660, 2670, 2680, 2690, 2700, 2710, 2720, 2730, 2740, 2750,\n",
       "       2760, 2770, 2780, 2790, 2800, 2810, 2820, 2830, 2840, 2850, 2860,\n",
       "       2870, 2880, 2890, 2900, 2910, 2920, 2930, 2940, 2950, 2960, 2970,\n",
       "       2980, 2990, 3000, 3010, 3020, 3030, 3040, 3050, 3060, 3070, 3080,\n",
       "       3090, 3100, 3110, 3120, 3130, 3140, 3150, 3160, 3170, 3180, 3190,\n",
       "       3200, 3210, 3220, 3230, 3240, 3250, 3260, 3270, 3280, 3290, 3300,\n",
       "       3310, 3320, 3330, 3340, 3350, 3360, 3370, 3380, 3390, 3400, 3410,\n",
       "       3420, 3430, 3440, 3450, 3460, 3470, 3480, 3490, 3500, 3510, 3520,\n",
       "       3530, 3540, 3550, 3560, 3570, 3580, 3590, 3600, 3610, 3620, 3630,\n",
       "       3640, 3650, 3660, 3670, 3680, 3690, 3700, 3710, 3720, 3730, 3740,\n",
       "       3750, 3760, 3770, 3780, 3790, 3800, 3810, 3820, 3830, 3840, 3850,\n",
       "       3860, 3870, 3880, 3890, 3900, 3910, 3920, 3930, 3940, 3950, 3960,\n",
       "       3970, 3980, 3990, 4000, 4010, 4020, 4030, 4040, 4050, 4060, 4070,\n",
       "       4080, 4090, 4100, 4110, 4120, 4130, 4140, 4150, 4160, 4170, 4180,\n",
       "       4190, 4200, 4210, 4220, 4230, 4240, 4250, 4260, 4270, 4280, 4290,\n",
       "       4300, 4310, 4320, 4330, 4340, 4350, 4360, 4370, 4380, 4390, 4400,\n",
       "       4410, 4420, 4430, 4440, 4450, 4460, 4470, 4480, 4490, 4500, 4510,\n",
       "       4520, 4530, 4540, 4550, 4560, 4570, 4580, 4590, 4600, 4610, 4620,\n",
       "       4630, 4640, 4650, 4660, 4670, 4680, 4690, 4700, 4710, 4720, 4730,\n",
       "       4740, 4750, 4760, 4770, 4780, 4790, 4800, 4810, 4820, 4830, 4840,\n",
       "       4850, 4860, 4870, 4880, 4890, 4900, 4910, 4920, 4930, 4940, 4950,\n",
       "       4960, 4970, 4980, 4990, 5000, 5010, 5020, 5030, 5040, 5050, 5060,\n",
       "       5070, 5080, 5090, 5100, 5110, 5120, 5130, 5140, 5150, 5160, 5170,\n",
       "       5180, 5190, 5200, 5210, 5220, 5230, 5240, 5250, 5260, 5270, 5280,\n",
       "       5290, 5300, 5310, 5320, 5330, 5340, 5350, 5360, 5370, 5380, 5390,\n",
       "       5400, 5410, 5420, 5430, 5440, 5450, 5460, 5470, 5480, 5490, 5500,\n",
       "       5510, 5520, 5530, 5540, 5550, 5560, 5570, 5580, 5590, 5600, 5610,\n",
       "       5620, 5630, 5640, 5650, 5660, 5670, 5680, 5690, 5700, 5710, 5720,\n",
       "       5730, 5740, 5750, 5760])"
      ]
     },
     "execution_count": 16,
     "metadata": {},
     "output_type": "execute_result"
    }
   ],
   "source": [
    "t"
   ]
  },
  {
   "cell_type": "code",
   "execution_count": 17,
   "metadata": {},
   "outputs": [
    {
     "data": {
      "text/plain": [
       "4.0"
      ]
     },
     "execution_count": 17,
     "metadata": {},
     "output_type": "execute_result"
    }
   ],
   "source": [
    "t[-1]/(24 * 60)\n"
   ]
  },
  {
   "cell_type": "code",
   "execution_count": 13,
   "metadata": {},
   "outputs": [
    {
     "data": {
      "text/plain": [
       "5760"
      ]
     },
     "execution_count": 13,
     "metadata": {},
     "output_type": "execute_result"
    }
   ],
   "source": [
    "4 * 24 * 60 "
   ]
  },
  {
   "cell_type": "code",
   "execution_count": null,
   "metadata": {
    "collapsed": true
   },
   "outputs": [],
   "source": []
  }
 ],
 "metadata": {
  "kernelspec": {
   "display_name": "Python 3",
   "language": "python",
   "name": "python3"
  },
  "language_info": {
   "codemirror_mode": {
    "name": "ipython",
    "version": 3
   },
   "file_extension": ".py",
   "mimetype": "text/x-python",
   "name": "python",
   "nbconvert_exporter": "python",
   "pygments_lexer": "ipython3",
   "version": "3.6.3"
  }
 },
 "nbformat": 4,
 "nbformat_minor": 2
}
