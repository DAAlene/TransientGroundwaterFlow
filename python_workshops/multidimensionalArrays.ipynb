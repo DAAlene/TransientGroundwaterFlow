{
 "cells": [
  {
   "cell_type": "markdown",
   "metadata": {},
   "source": [
    "# Multidimensional arrays\n",
    "\n",
    "IHE, Friday 20 Feb 2017\n",
    "\n",
    "Theo Olsthoorn, 06-20440256, tolsthoorn@gmail.com"
   ]
  },
  {
   "cell_type": "code",
   "execution_count": null,
   "metadata": {
    "collapsed": true
   },
   "outputs": [],
   "source": [
    "import numpy as np\n",
    "from scipy.special import exp1 as W # Theis well function\n",
    "import matplotlib.pyplot as plt\n",
    "%matplotlib notebook"
   ]
  },
  {
   "cell_type": "markdown",
   "metadata": {},
   "source": [
    "What is it useful for?\n",
    "\n",
    "Store multidimensional data, like\n",
    "\n",
    "+ The head in a numerical network in 2 or 3D\n",
    "+ time-distacne arrays, combining all times and distances, for instance of a drawdown\n",
    "+ Multiple measurements"
   ]
  },
  {
   "cell_type": "markdown",
   "metadata": {},
   "source": [
    "What we'll do\n",
    "\n",
    "+ The differece between sequences (list, tuples) and numpy arrays (numerical arrays)\n",
    "+ Show how to generate (with types), and manipulate multidimensional arrays and how to handle them\n",
    "    .size,\n",
    "    .shape,\n",
    "    .reshape(),\n",
    "    .hstack(),\n",
    "    .vstack()\n",
    "+ lists of list versus numerical arrays\n",
    "+ slicing and indexing in arrays\n",
    "    - slicing\n",
    "    - logical indexing (show what's where)\n",
    "+ Show broadcasting of arrays\n",
    "+ The difference between an array and a matrix\n",
    "+ Compute the drawdown versus time and show the drawns for many times and disctances in a single graph\n",
    "    - a Theis well\n",
    "    - a well and a mirror well\n",
    "+ Compute the drawdown on a spatial grid\n",
    "+ Contour the drawdown\n",
    "    - line\n",
    "    - full colors\n",
    "    - colorbar( with title)\n",
    "+ Compute the velocities on the grid\n",
    "+ Show the velocities using quiver\n",
    "+ Set up a system with a large number of linear equations and solve it.\n",
    "    + regression\n",
    "+ logical array indexing using polyline\n",
    "    + polyline\n",
    "    + np.spy\n"
   ]
  },
  {
   "cell_type": "markdown",
   "metadata": {
    "collapsed": true
   },
   "source": [
    "## Broadcasting\n",
    "\n",
    "Broadcasting is automatic completion of differently shaped arrays to allow term by term computations.\n",
    "This an extremly convinient and powerfull functionality of python's numpy module"
   ]
  },
  {
   "cell_type": "code",
   "execution_count": null,
   "metadata": {
    "collapsed": false
   },
   "outputs": [],
   "source": [
    "x = np.arange(11)\n",
    "y = np.arange(11)\n",
    "print(x)\n",
    "print(y)"
   ]
  },
  {
   "cell_type": "code",
   "execution_count": null,
   "metadata": {
    "collapsed": false
   },
   "outputs": [],
   "source": [
    "x = x.reshape((1, 11))\n",
    "x.T.shape\n",
    "x.size\n",
    "x.ndim"
   ]
  },
  {
   "cell_type": "code",
   "execution_count": null,
   "metadata": {
    "collapsed": false
   },
   "outputs": [],
   "source": [
    "y = y.reshape((11, 1))\n",
    "print(x)\n",
    "print(y)\n",
    "print(x * y)\n",
    "print(y * x)"
   ]
  },
  {
   "cell_type": "code",
   "execution_count": null,
   "metadata": {
    "collapsed": false
   },
   "outputs": [],
   "source": [
    "xy = x * y\n",
    "print(xy)\n",
    "print(xy.shape)\n",
    "print(xy[2:3].shape)"
   ]
  },
  {
   "cell_type": "markdown",
   "metadata": {},
   "source": [
    "## Compute function of t and r for all combinations simultaneously\n",
    "\n",
    "Let's compute the drawdown due to a transient well for may times and distances simultaneously and show the drawdown for many times as s function of r and for many r as a function of time.\n",
    "\n",
    "$$ s = \\frac {Q_0} {4 \\pi kD} W(u), \\,\\,\\,\\, u = \\frac {r^2 S} {4 kD t} $$"
   ]
  },
  {
   "cell_type": "code",
   "execution_count": null,
   "metadata": {
    "collapsed": true
   },
   "outputs": [],
   "source": []
  },
  {
   "cell_type": "code",
   "execution_count": null,
   "metadata": {
    "collapsed": false
   },
   "outputs": [],
   "source": [
    "Q = 2400 # m3/d\n",
    "S = 0.2\n",
    "kD = 900 # m2/d\n",
    "\n",
    "Nt = 30\n",
    "Nr = 20\n",
    "times = np.logspace(-3, 2, Nt)\n",
    "distances = np.logspace(0, 3, Nr)\n",
    "\n",
    "u = distances.reshape((1,Nr)) ** 2 * S / (4 * kD * times.reshape((Nt,1)))\n",
    "s = Q / (4 * np.pi * kD) * W(u)\n",
    "\n",
    "print(u.shape)\n",
    "\n",
    "fig1, ax1 = plt.subplots()\n",
    "ax1.set_xlabel('r [m]')\n",
    "ax1.set_ylabel('s [m]')\n",
    "ax1.set_xscale('log')\n",
    "ax1.set_title('Drawdown vs r for many times')\n",
    "for it, t in enumerate(times):\n",
    "    ax1.plot(distances, s[it,:])\n",
    "ax1.invert_yaxis()\n",
    "plt.show()\n",
    "\n",
    "fig2, ax2 = plt.subplots()\n",
    "ax2.set_xlabel('t [d]')\n",
    "ax2.set_ylabel('s [m]')\n",
    "ax2.set_xscale('log')\n",
    "ax2.set_title('Drawdown vs t for many distances r')\n",
    "for ir, r in enumerate(distances):\n",
    "    ax2.plot(times, s[:,ir])\n",
    "ax2.invert_yaxis()\n",
    "plt.show()\n"
   ]
  },
  {
   "cell_type": "markdown",
   "metadata": {},
   "source": [
    "## Contouring your data\n",
    "\n",
    "Compute the distance from an arbitrary point x, y to the well at x0, y0,\n",
    "then extend x, y over a full grid and compute the drawdown in every point.\n",
    "Finally contour the drawdowns.\n",
    "\n",
    "We use the same well function and aquifer data as before."
   ]
  },
  {
   "cell_type": "code",
   "execution_count": null,
   "metadata": {
    "collapsed": false
   },
   "outputs": [],
   "source": [
    "# aquifer\n",
    "kD = 900 # m2/d\n",
    "S = 0.15\n",
    "\n",
    "# times\n",
    "t = 1.2 # d\n",
    "\n",
    "# coordinates\n",
    "x = np.linspace(-500, 500, 101)\n",
    "y = np.linspace(-500, 500, 101)\n",
    "Nx = len(x)\n",
    "Ny = len(y)\n",
    "X = np.ones((len(y), 1)) * x[np.newaxis, :]\n",
    "Y = y[:, np.newaxis] * np.ones((1, len(x)))\n",
    "\n",
    "# wells\n",
    "xw = [-100., 100.]\n",
    "yw = [   0.,   0.]\n",
    "rw = [ 0.25, 0.25]\n",
    "Qw  = [1200., -1200.] # m3/d\n",
    "\n",
    "\n",
    "s = np.zeros_like(X)\n",
    "qr = np.zeros_like(X)\n",
    "qx = np.zeros_like(X)\n",
    "qy = np.zeros_like(X)\n",
    "\n",
    "for x0, y0, r0, Q0 in zip(xw, yw, rw, Qw):  \n",
    "    r = np.sqrt((X - x0)**2 + (Y - y0)**2)\n",
    "    r[r==0] = r0\n",
    "    u = r**2 * S / (4 * kD * t)\n",
    "    s += Q0 / (4 * np.pi * kD) * W(u)\n",
    "    q  = Q0 * np.exp(-u) / (2 * np.pi * r)\n",
    "    qr += q \n",
    "    qx += q * (x0 - X)/r\n",
    "    qy += q * (y0 - Y)/r"
   ]
  },
  {
   "cell_type": "code",
   "execution_count": null,
   "metadata": {
    "collapsed": false
   },
   "outputs": [],
   "source": [
    "xlim=(-300, 300)\n",
    "ylim=(-300, 300)\n",
    "\n",
    "fig, ax = plt.subplots()\n",
    "\n",
    "ax.contour(x, y, s, np.linspace(np.min(s), np.max(s), 100))\n",
    "ax.set_xlabel('x [m]')\n",
    "ax.set_ylabel('y [m]')\n",
    "ax.set_title('well and mirror with contours and v-vectors')\n",
    "ax.set_xlim(xlim)\n",
    "ax.set_ylim(ylim)\n",
    "plt.quiver(X, Y, qx, qy)\n",
    "plt.show()"
   ]
  },
  {
   "cell_type": "markdown",
   "metadata": {},
   "source": [
    "#### full colors"
   ]
  },
  {
   "cell_type": "code",
   "execution_count": null,
   "metadata": {
    "collapsed": false
   },
   "outputs": [],
   "source": [
    "xlim=(-150, 150)\n",
    "ylim=(-150, 150)\n",
    "\n",
    "fig, ax = plt.subplots()\n",
    "\n",
    "cs = ax.contourf(x, y, s, np.linspace(np.min(s), np.max(s), 100))\n",
    "ax.set_xlabel('x [m]')\n",
    "ax.set_ylabel('y [m]')\n",
    "ax.set_title('well and mirror with contours and v-vectors')\n",
    "ax.set_xlim(xlim)\n",
    "ax.set_ylim(ylim)\n",
    "plt.quiver(X, Y, qx, qy)\n",
    "fig.colorbar(cs, ticks=np.linspace(-1.5, 1.5, 21))\n",
    "plt.show()"
   ]
  },
  {
   "cell_type": "markdown",
   "metadata": {},
   "source": [
    "### with plt.matshow()"
   ]
  },
  {
   "cell_type": "code",
   "execution_count": null,
   "metadata": {
    "collapsed": false
   },
   "outputs": [],
   "source": [
    "plt.matshow(s)\n",
    "plt.show()"
   ]
  },
  {
   "cell_type": "markdown",
   "metadata": {},
   "source": [
    "### Run a 3D finite difference groundwater model and show results"
   ]
  },
  {
   "cell_type": "code",
   "execution_count": null,
   "metadata": {
    "collapsed": false
   },
   "outputs": [],
   "source": [
    "mymodules = './modules'\n",
    "import sys\n",
    "if not mymodules in sys.path:\n",
    "    sys.path.insert(1, mymodules)\n",
    "\n",
    "import fdm\n",
    "import mfgrid"
   ]
  },
  {
   "cell_type": "code",
   "execution_count": null,
   "metadata": {
    "collapsed": false
   },
   "outputs": [],
   "source": [
    "### Logical array indexing, data within a polyline (matplotlib path)\n",
    "xGr = np.linspace(-500, 500, 101)\n",
    "yGr = np.linspace(-500, 500, 101)\n",
    "zGr = np.array([0, -10, -100])\n",
    "\n",
    "gr = mfgrid.Grid(xGr, yGr, zGr)\n",
    "\n",
    "fig, ax = plt.subplots()\n",
    "\n",
    "#gr.plot_grid()\n",
    "\n",
    "rch = 0.001 # m/d\n",
    "\n",
    "k = gr.const(10.)\n",
    "FQ = gr.const(0);  FQ[:,:,0] = rch * gr.Area\n",
    "FH = gr.const(0.)\n",
    "IBOUND = gr.const(1)\n",
    "IBOUND[[0,-1], :, :] = -1\n",
    "IBOUND[:, [0,-1], :] = -1\n",
    "\n",
    "Out= fdm.fdm3(gr, (k, k, k), FQ, FH, IBOUND)\n",
    "\n",
    "ax.contour(gr.xm, gr.ym, Out.Phi[:, :, 0], level=30)\n",
    "plt.show()\n"
   ]
  },
  {
   "cell_type": "code",
   "execution_count": null,
   "metadata": {
    "collapsed": false
   },
   "outputs": [],
   "source": [
    "wells = np.array([[100, 175, -1200.],\n",
    "                  [-205, 33, -800.],\n",
    "                  [-80, 165, -600.]])\n",
    "\n",
    "ixw = gr.ix(wells[:,0])\n",
    "iyw = gr.iy(wells[:,1])\n",
    "Qw  = wells[:,-1]\n",
    "\n",
    "for ix, iy, Q in zip(ixw, iyw, Qw):\n",
    "    FQ[iy, ix, -1] = Q "
   ]
  },
  {
   "cell_type": "code",
   "execution_count": null,
   "metadata": {
    "collapsed": false
   },
   "outputs": [],
   "source": [
    "fig, ax = plt.subplots()\n",
    "\n",
    "Out= fdm.fdm3(gr, (k, k, k), FQ, FH, IBOUND)\n",
    "\n",
    "ax.contour(gr.xm, gr.ym, Out.Phi[:, :, 0], 30)\n",
    "plt.show()\n"
   ]
  },
  {
   "cell_type": "code",
   "execution_count": null,
   "metadata": {
    "collapsed": false
   },
   "outputs": [],
   "source": [
    "import coords\n",
    "crds = coords.coords * 2\n",
    "crds[:,0] -=600\n",
    "crds[:,1] -= 400\n",
    "crds = np.vstack((crds, crds[0]))\n",
    "\n",
    "\n",
    "fig, ax = plt.subplots()\n",
    "ax.contour(gr.xm, gr.ym, Out.Phi[:, :, 0], 30)\n",
    "ax.plot(crds[:,0], crds[:,1], lw=3)\n",
    "plt.show()\n",
    "\n",
    "\n"
   ]
  },
  {
   "cell_type": "code",
   "execution_count": null,
   "metadata": {
    "collapsed": false
   },
   "outputs": [],
   "source": [
    "island = gr.inpoly(crds)"
   ]
  },
  {
   "cell_type": "code",
   "execution_count": null,
   "metadata": {
    "collapsed": false
   },
   "outputs": [],
   "source": [
    "fig, ax = plt.subplots()\n",
    "ax.spy(island)"
   ]
  },
  {
   "cell_type": "code",
   "execution_count": null,
   "metadata": {
    "collapsed": false
   },
   "outputs": [],
   "source": [
    "ibnd = IBOUND[:,:, 0]\n",
    "ibnd[~island] = -1\n",
    "IBOUND[:,:,0] = ibnd\n",
    "IBOUND[:,:,1] = ibnd"
   ]
  },
  {
   "cell_type": "code",
   "execution_count": null,
   "metadata": {
    "collapsed": false
   },
   "outputs": [],
   "source": [
    "Out= fdm.fdm3(gr, (k, k, k), FQ, FH, IBOUND)\n",
    "\n",
    "fig, ax = plt.subplots()\n",
    "\n",
    "ax.contour(gr.xm, gr.ym, Out.Phi[:, :, 0], 30)\n",
    "ax.plot(crds[:,0], crds[:,1], 'b', lw=3)\n",
    "plt.show()\n"
   ]
  },
  {
   "cell_type": "code",
   "execution_count": null,
   "metadata": {
    "collapsed": false
   },
   "outputs": [],
   "source": [
    "print('total across boundaries: ', np.sum(Out.Q[IBOUND==-1]))\n",
    "print('total recharge:          ', np.sum(Out.Q[np.logical_and(FQ<0, IBOUND>0)]))\n",
    "print('total wells:             ', np.sum(Out.Q[IBOUND== 1]))"
   ]
  }
 ],
 "metadata": {
  "anaconda-cloud": {},
  "kernelspec": {
   "display_name": "Python [default]",
   "language": "python",
   "name": "python3"
  },
  "language_info": {
   "codemirror_mode": {
    "name": "ipython",
    "version": 3
   },
   "file_extension": ".py",
   "mimetype": "text/x-python",
   "name": "python",
   "nbconvert_exporter": "python",
   "pygments_lexer": "ipython3",
   "version": "3.5.2"
  }
 },
 "nbformat": 4,
 "nbformat_minor": 1
}
