{
 "cells": [
  {
   "cell_type": "markdown",
   "metadata": {},
   "source": [
    "# Investigating the character of the Theis well function\n",
    "\n",
    "In the previous section the Theis well function was introduced. The function, which is in fact the function known as exponential integral by mathematicians, proved available in the standard library of Ptyhon module scipy.special. We modified it a little to make it match the Theis well function exactly and gave it the name \"W\" like it has in groundwater hydrology books. Then we used it in some examples.\n",
    "\n",
    "In this chapter we will investigate the Theis well funchtion character a more accurately."
   ]
  },
  {
   "cell_type": "markdown",
   "metadata": {},
   "source": [
    "Instead of looking for the function in the available library we could have computed the function ourselfs, for instance by numerical integration.\n",
    "\n",
    "$$ W(u) = \\intop_u^{-\\infty} \\frac {e^{-y}} y dy \\approx \\sum_0^N \\frac {e^{-y_i}} {y_i} \\Delta y_i $$\n",
    "\n",
    "where $y_0 = u_0$ and $N$ has a a sufficiently large value."
   ]
  },
  {
   "cell_type": "code",
   "execution_count": 3,
   "metadata": {
    "collapsed": true
   },
   "outputs": [],
   "source": [
    "def W1(u):\n",
    "    \"\"\"Returns Theis' well function axpproximation by numerical intergration\n",
    "    \n",
    "    Works only for scalar u\n",
    "    \"\"\"\n",
    "    if not np.isscalar(u):\n",
    "        raise ValueError(\"\",\"u must be a scalar\")\n",
    "        \n",
    "    LOG10INF = 2 # sufficient as exp(-100) is in the order of 1e-50\n",
    "    y = np.logspace(np.log10(u), LOG10INF, 1000)  # we use thousand intermediate values\n",
    "    ym = 0.5 * (y[:-1]  + y[1:])\n",
    "    Dy = np.diff(y)\n",
    "    w = np.sum( np.exp(-ym) / ym * Dy )\n",
    "    return w"
   ]
  },
  {
   "cell_type": "markdown",
   "metadata": {},
   "source": [
    "Try it out"
   ]
  },
  {
   "cell_type": "code",
   "execution_count": 4,
   "metadata": {
    "collapsed": false
   },
   "outputs": [
    {
     "ename": "NameError",
     "evalue": "name 'np' is not defined",
     "output_type": "error",
     "traceback": [
      "\u001b[0;31m---------------------------------------------------------------------------\u001b[0m",
      "\u001b[0;31mNameError\u001b[0m                                 Traceback (most recent call last)",
      "\u001b[0;32m<ipython-input-4-8cb99d1336de>\u001b[0m in \u001b[0;36m<module>\u001b[0;34m()\u001b[0m\n\u001b[0;32m----> 1\u001b[0;31m \u001b[0mU\u001b[0m \u001b[0;34m=\u001b[0m \u001b[0;36m4\u001b[0m \u001b[0;34m*\u001b[0m \u001b[0;36m10\u001b[0m\u001b[0;34m**\u001b[0m \u001b[0;34m-\u001b[0m\u001b[0mnp\u001b[0m\u001b[0;34m.\u001b[0m\u001b[0marange\u001b[0m\u001b[0;34m(\u001b[0m\u001b[0;36m11.\u001b[0m\u001b[0;34m)\u001b[0m   \u001b[0;31m# generates values 4, 4e-1, 4e-2 .. 4e-10\u001b[0m\u001b[0;34m\u001b[0m\u001b[0m\n\u001b[0m\u001b[1;32m      2\u001b[0m \u001b[0mprint\u001b[0m\u001b[0;34m(\u001b[0m\u001b[0;34m\"{:>10s}   {:>10s}  {:>10s}\"\u001b[0m\u001b[0;34m.\u001b[0m\u001b[0mformat\u001b[0m\u001b[0;34m(\u001b[0m\u001b[0;34m'u   '\u001b[0m\u001b[0;34m,\u001b[0m \u001b[0;34m'W(u)'\u001b[0m\u001b[0;34m,\u001b[0m\u001b[0;34m'W1(u)  '\u001b[0m\u001b[0;34m)\u001b[0m\u001b[0;34m)\u001b[0m\u001b[0;34m\u001b[0m\u001b[0m\n\u001b[1;32m      3\u001b[0m \u001b[0;32mfor\u001b[0m \u001b[0mu\u001b[0m \u001b[0;32min\u001b[0m \u001b[0mU\u001b[0m\u001b[0;34m:\u001b[0m\u001b[0;34m\u001b[0m\u001b[0m\n\u001b[1;32m      4\u001b[0m     \u001b[0mprint\u001b[0m\u001b[0;34m(\u001b[0m\u001b[0;34m\"{0:10.1e}   {1:10.4e}   {2:10.4e}\"\u001b[0m\u001b[0;34m.\u001b[0m\u001b[0mformat\u001b[0m\u001b[0;34m(\u001b[0m\u001b[0mu\u001b[0m\u001b[0;34m,\u001b[0m \u001b[0mW\u001b[0m\u001b[0;34m(\u001b[0m\u001b[0mu\u001b[0m\u001b[0;34m)\u001b[0m\u001b[0;34m,\u001b[0m \u001b[0mW1\u001b[0m\u001b[0;34m(\u001b[0m\u001b[0mu\u001b[0m\u001b[0;34m)\u001b[0m\u001b[0;34m)\u001b[0m\u001b[0;34m)\u001b[0m\u001b[0;34m\u001b[0m\u001b[0m\n",
      "\u001b[0;31mNameError\u001b[0m: name 'np' is not defined"
     ]
    }
   ],
   "source": [
    "U = 4 * 10** -np.arange(11.)   # generates values 4, 4e-1, 4e-2 .. 4e-10\n",
    "print(\"{:>10s}   {:>10s}  {:>10s}\".format('u   ', 'W(u)','W1(u)  '))\n",
    "for u in U:\n",
    "    print(\"{0:10.1e}   {1:10.4e}   {2:10.4e}\".format(u, W(u), W1(u)))"
   ]
  },
  {
   "cell_type": "markdown",
   "metadata": {},
   "source": [
    "Is seems that our numerical integration is a fair approximation to four significant digits, but not better, even when computed with 1000 steps as we did. So it is relatively easy to create one's own numerically computed value of an analytical expression like the exponential integral"
   ]
  },
  {
   "cell_type": "markdown",
   "metadata": {},
   "source": [
    "## Theis well function as a power series\n",
    "\n",
    "The theis well function can be expressed also as a power series. This expression has certain advanages as it gives insight into the behavior of its character and allows important simplifications and deductions.\n",
    "\n",
    "$$ W(u) = -0.5773 - \\ln(u) + u - \\frac {u^2} {2 . 2!} + \\frac {u^3} {3 . 3!} - \\frac {u^4} {4 . 4!} + ... $$\n",
    "\n",
    "This series too can be readily numerially comptuted by first defining a function for it. The sum will be computed in a loop. To prevent having to compute faculties, it is easiest to compute each successive term from the previous one.\n",
    "\n",
    "So to get from term m to term n+1:\n",
    "\n",
    "$$ \\frac {u^{n+1}} {(n+1) . (n+1)!} = \\frac {u^n} { n . n!} \\times \\frac {u \\, n} {(n+1)^2} $$\n",
    "\n",
    "This series is implemented below."
   ]
  },
  {
   "cell_type": "code",
   "execution_count": 5,
   "metadata": {
    "collapsed": false
   },
   "outputs": [],
   "source": [
    "def W2(u):\n",
    "    \"\"\"Returns Theis well function computed as a power series\"\"\"\n",
    "    tol = 1e-5\n",
    "    w = -0.5772 -np.log(u) + u\n",
    "    a = u\n",
    "    for n in range(1, 100):\n",
    "        a = -a * u * n / (n+1)**2 # new term (next term)\n",
    "        w += a\n",
    "        if np.all(a) < tol:\n",
    "            return w"
   ]
  },
  {
   "cell_type": "markdown",
   "metadata": {},
   "source": [
    "Compare the three methods of computing the well function."
   ]
  },
  {
   "cell_type": "code",
   "execution_count": 6,
   "metadata": {
    "collapsed": false
   },
   "outputs": [
    {
     "ename": "NameError",
     "evalue": "name 'np' is not defined",
     "output_type": "error",
     "traceback": [
      "\u001b[0;31m---------------------------------------------------------------------------\u001b[0m",
      "\u001b[0;31mNameError\u001b[0m                                 Traceback (most recent call last)",
      "\u001b[0;32m<ipython-input-6-49cd7dab2958>\u001b[0m in \u001b[0;36m<module>\u001b[0;34m()\u001b[0m\n\u001b[0;32m----> 1\u001b[0;31m \u001b[0mU\u001b[0m \u001b[0;34m=\u001b[0m \u001b[0;36m4.0\u001b[0m \u001b[0;34m*\u001b[0m \u001b[0;36m10\u001b[0m\u001b[0;34m**\u001b[0m \u001b[0;34m-\u001b[0m\u001b[0mnp\u001b[0m\u001b[0;34m.\u001b[0m\u001b[0marange\u001b[0m\u001b[0;34m(\u001b[0m\u001b[0;36m11.\u001b[0m\u001b[0;34m)\u001b[0m   \u001b[0;31m# generates values 4, 4e-1, 4e-2 .. 4e-10\u001b[0m\u001b[0;34m\u001b[0m\u001b[0m\n\u001b[0m\u001b[1;32m      2\u001b[0m \u001b[0mprint\u001b[0m\u001b[0;34m(\u001b[0m\u001b[0;34m\"{:>10s}  {:>10s}  {:>10s}  {:>10s}\"\u001b[0m\u001b[0;34m.\u001b[0m\u001b[0mformat\u001b[0m\u001b[0;34m(\u001b[0m\u001b[0;34m'u   '\u001b[0m\u001b[0;34m,\u001b[0m \u001b[0;34m'W(u)  '\u001b[0m\u001b[0;34m,\u001b[0m\u001b[0;34m'W1(u)  '\u001b[0m\u001b[0;34m,\u001b[0m \u001b[0;34m'W2(u)  '\u001b[0m\u001b[0;34m)\u001b[0m\u001b[0;34m)\u001b[0m\u001b[0;34m\u001b[0m\u001b[0m\n\u001b[1;32m      3\u001b[0m \u001b[0;32mfor\u001b[0m \u001b[0mu\u001b[0m \u001b[0;32min\u001b[0m \u001b[0mU\u001b[0m\u001b[0;34m:\u001b[0m\u001b[0;34m\u001b[0m\u001b[0m\n\u001b[1;32m      4\u001b[0m     \u001b[0mprint\u001b[0m\u001b[0;34m(\u001b[0m\u001b[0;34m\"{0:10.1e}  {1:10.4e}   {2:10.4e}  {2:10.4e}\"\u001b[0m\u001b[0;34m.\u001b[0m\u001b[0mformat\u001b[0m\u001b[0;34m(\u001b[0m\u001b[0mu\u001b[0m\u001b[0;34m,\u001b[0m \u001b[0mW\u001b[0m\u001b[0;34m(\u001b[0m\u001b[0mu\u001b[0m\u001b[0;34m)\u001b[0m\u001b[0;34m,\u001b[0m \u001b[0mW1\u001b[0m\u001b[0;34m(\u001b[0m\u001b[0mu\u001b[0m\u001b[0;34m)\u001b[0m\u001b[0;34m,\u001b[0m \u001b[0mW2\u001b[0m\u001b[0;34m(\u001b[0m\u001b[0mu\u001b[0m\u001b[0;34m)\u001b[0m\u001b[0;34m)\u001b[0m\u001b[0;34m)\u001b[0m\u001b[0;34m\u001b[0m\u001b[0m\n",
      "\u001b[0;31mNameError\u001b[0m: name 'np' is not defined"
     ]
    }
   ],
   "source": [
    "U = 4.0 * 10** -np.arange(11.)   # generates values 4, 4e-1, 4e-2 .. 4e-10\n",
    "print(\"{:>10s}  {:>10s}  {:>10s}  {:>10s}\".format('u   ', 'W(u)  ','W1(u)  ', 'W2(u)  '))\n",
    "for u in U:\n",
    "    print(\"{0:10.1e}  {1:10.4e}   {2:10.4e}  {2:10.4e}\".format(u, W(u), W1(u), W2(u)))"
   ]
  },
  {
   "cell_type": "markdown",
   "metadata": {},
   "source": [
    "We see that all three methods yiedld the same results.\n",
    "\n",
    "Next we show the well function as it shown in groundwater hydrology books."
   ]
  },
  {
   "cell_type": "code",
   "execution_count": null,
   "metadata": {
    "collapsed": true
   },
   "outputs": [],
   "source": [
    "ax1.legend?"
   ]
  },
  {
   "cell_type": "code",
   "execution_count": null,
   "metadata": {
    "collapsed": false
   },
   "outputs": [],
   "source": [
    "u = np.logspace(-7, 1, 71)\n",
    "\n",
    "import matplotlib.pylab as plt\n",
    "fig1= plt.figure()\n",
    "ax1 = fig1.add_subplot(111)\n",
    "ax1.set(xlabel='1/u', ylabel='W(u)', title='Theis type curve versus u', yscale='log', xscale='log')\n",
    "ax1.grid(True)\n",
    "ax1.plot(u, W(u), 'b', label='-expi(-u)')\n",
    "#ax1.plot(u, W1(u), 'rx', label='integal') # works only for scalars\n",
    "ax1.plot(u, W2(u), 'g+', label='power series')\n",
    "ax1.legend(loc='best')\n",
    "plt.show()"
   ]
  },
  {
   "cell_type": "markdown",
   "metadata": {},
   "source": [
    "The curve W(u) versus u runs counter intuitively which and is, therefore, confusing. Therefore, it generally presented as W(u) versus 1/u instead as shown below"
   ]
  },
  {
   "cell_type": "code",
   "execution_count": null,
   "metadata": {
    "collapsed": false
   },
   "outputs": [],
   "source": [
    "fig2 = plt.figure()\n",
    "ax2 = fig2.add_subplot(111)\n",
    "ax2.set(xlabel='1/u', ylabel='W(u)', title='Theis type curve versus 1/u', yscale='log', xscale='log')\n",
    "ax2.grid(True)\n",
    "ax2.plot(1/u, W(u))\n",
    "plt.show()"
   ]
  },
  {
   "cell_type": "markdown",
   "metadata": {},
   "source": [
    "Now W(u) resembles the actual drawdown, which increases with time.\n",
    "\n",
    "The reason that this is so, becomes clear from the fact that\n",
    "\n",
    "$$ u = \\frac {r^2 S} {4 kD t} $$\n",
    "\n",
    "and that\n",
    "\n",
    "$$ \\frac 1 u = \\frac {4 kDt} {r^2 S} = \\frac {4 kD} S \\frac t {r^2} $$\n",
    "\n",
    "which shows that $\\frac 1 u$ increases with time, so that the values of $\\frac 1 u$ on the $\\frac 1 u$ axis are propotional with time and so the drawdown, i.e., the well function $W(u)$ increases with $\\frac 1 u$, which is less confusing.\n",
    "\n",
    "The graph of $W(u)$ versus $\\frac 1 u$ is called the Theis type curve. It's vertical axis is proportional to the drawdown and its horizontal axis proportional to time."
   ]
  },
  {
   "cell_type": "markdown",
   "metadata": {},
   "source": [
    "The same curve is shown below but now on linear vertical scale and a logarithmic horizontal scale. The vertical scale was reversed (see values on y-axis) to obtain a curve that illustrates the decline of groundwater head with time caused by the extraction. This way of presending is probably least confusing when reading the curve."
   ]
  },
  {
   "cell_type": "code",
   "execution_count": null,
   "metadata": {
    "collapsed": false
   },
   "outputs": [],
   "source": [
    "fig2 = plt.figure()\n",
    "ax2 = fig2.add_subplot(111)\n",
    "ax2.set(xlabel='1/u', ylabel='W(u)', title='Theis type curve versus 1/u', yscale='linear', xscale='log')\n",
    "ax2.grid(True)\n",
    "ax2.plot(1/u, W(u))\n",
    "ax2.invert_yaxis()\n",
    "plt.show()"
   ]
  },
  {
   "cell_type": "markdown",
   "metadata": {},
   "source": [
    "## Logarithmic approximaion of the Theis type curve\n",
    "We see that after some time, the drawdown is linear when only the time-axis is logarithmic. This suggests that a logarithmic approximation of time-drawdown curve is accurate after some time.\n",
    "\n",
    "That this is indeed the case can be deduced from the power series description of the type curve:\n",
    "\n",
    "$$ W(u) = -0.5773 - \\ln(u) + u - \\frac {u^2} {2 . 2!} + \\frac {u^3} {3 . 3!} - \\frac {u^4} {4 . 4!} + ... $$\n",
    "\n",
    "It is clear that all terms to the right of u will be smaller than u when $u<1$. Hence when u is so small that it can be neglected relative to $\\ln(u)$, then all the terms to the right of $\\ln(u)$ can be neglected. Therefore we have the following spproximation\n",
    "\n",
    "$$ W(u) \\approx -0.5772 -\\ln(u) + O(u) $$\n",
    "\n",
    "for\n",
    "\n",
    "$$ -\\ln(u)>>u \\,\\,\\,\\rightarrow \\,\\,\\, \\ln(u)<<-u \\,\\,\\, \\rightarrow \\,\\,\\, u<<e^{-u} \\, \\approx  \\,1 $$\n",
    "\n",
    "which is practically the case for $u<0.01$, as can also be seen in the graph for $1/u = 10^2 $. From the graph one may conclude that even for 1/u>10 or u<0.1, the logarithmic type curve is straight and therefore can be accurately computed using a logarithmic approximation of the type curve.\n",
    "\n",
    "Below the error between the full Theis curve $W(u)$ and the approximation $Wu(u) = -0.5772 - \\ln(u)$ are computed and shown. This reveals that at $u=0.01$ the error is 5.4% and at $u=0.001$ it has come down to only 0.2%."
   ]
  },
  {
   "cell_type": "code",
   "execution_count": null,
   "metadata": {
    "collapsed": false
   },
   "outputs": [],
   "source": [
    "U = np.logspace(-2, 0, 21)\n",
    "\n",
    "Wa = lambda u : -0.5772 - np.log(u)\n",
    "\n",
    "print(\"{:>12s}  {:>12s}   {:>12s}   {:>12s}\".format('u','W(u)','Wa(u)','1-Wa(u)/W(u)'))\n",
    "print(\"{:>12s}  {:>12s}   {:>12s}   {:>12s}\".format(' ','    ','     ','the error'))\n",
    "for u in U:\n",
    "    print(\"{:12.3g}  {:12.3g}  {:12.3g}  {:12.1%}\".format(u, W(u), Wa(u), 1-Wa(u)/W(u)))"
   ]
  },
  {
   "cell_type": "code",
   "execution_count": null,
   "metadata": {
    "collapsed": false
   },
   "outputs": [],
   "source": [
    "U = np.logspace(-7, 1, 81)\n",
    "fig = plt.figure()\n",
    "ax = fig.add_subplot(111)\n",
    "ax.set(xlabel='1/u', ylabel='W(u)', title='Theis type curve and its logarithmic approximation', yscale='linear', xscale='log')\n",
    "ax.grid(True)\n",
    "ax.plot(1/U, W(U), 'b',  linewidth = 2., label='Theis type curve')\n",
    "ax.plot(1/U, Wa(U), 'r', linewidth = 0.25, label='log approximation')\n",
    "ax.invert_yaxis()\n",
    "plt.legend(loc='best')\n",
    "plt.show()"
   ]
  },
  {
   "cell_type": "markdown",
   "metadata": {},
   "source": [
    "Hence, in any practical situation, the logarithmic approximation is accurate enough when $u<0.01$."
   ]
  },
  {
   "cell_type": "markdown",
   "metadata": {},
   "source": [
    "The approximatin of the Theis type curve can no be elaborated:\n",
    "\n",
    "$$ Wa (u) \\approx -0.5772 - \\ln(u) = \\ln(e^{-0.5772}) - \\ln(u) = \\ln(0.5615) - \\ln(u) = \\ln \\frac {0.5615} {u} $$\n",
    "\n",
    "Because $u = \\frac {r^2 S} {4 kD t}$ we have, with 4\\times 0.5615 \\approx 2.25\n",
    "\n",
    "$$ W(u) \\approx \\ln \\frac {2.25 kD t} {r^2 S} $$\n",
    "\n",
    "and so the drawdown approximation becomes\n",
    "\n",
    "$$ s \\approx \\frac Q {4 \\pi kD} \\ln \\frac {2.25 kD t} {r^2 S} $$\n",
    "\n",
    "The condition u<0.1 can be translated to $\\frac {r^2 S} {4 kD t} < 0.1$ or\n",
    "\n",
    "$$\\frac t {r^2} > 2.5 \\frac {S} {kD}$$"
   ]
  },
  {
   "cell_type": "markdown",
   "metadata": {},
   "source": [
    "## Radius of influence\n",
    "\n",
    "The previous logarithmic drawdown type curve versus $1/u$ can be seen an image of the drawdown for a fixed distance and varying time. This is because $1/u$ is proportional to the real time. On the other hand, the drawdown type curve versus u may be regarded as the drawdown at a fixed time for varying distance. This follows from\n",
    "s versus u is\n",
    "\n",
    "$$ W(u)\\approx \\ln \\frac {2.25 kD t} { r^2 S} \\,\\,\\,\\, versus\\,\\,\\,\\, u = \\ln \\frac {r^2 S} {4 kD t} = 2 \\ln \\left( \\frac {S} {4 kD t} r\\right) $$\n",
    "\n",
    "That is, proportional r on log scale. The plot reveals this:"
   ]
  },
  {
   "cell_type": "code",
   "execution_count": null,
   "metadata": {
    "collapsed": false
   },
   "outputs": [],
   "source": [
    "U = np.logspace(-7, 1, 81)\n",
    "fig = plt.figure()\n",
    "ax = fig.add_subplot(111)\n",
    "ax.set(xlabel='u', ylabel='W(u)', title='Theis type curve and its logarithmic approximation', yscale='linear', xscale='log')\n",
    "ax.grid(True)\n",
    "ax.plot(U, W(U), 'b',  linewidth = 2., label='Theis type curve')\n",
    "ax.plot(U, Wa(U), 'r', linewidth = 0.25, label='log approximation')\n",
    "ax.invert_yaxis()\n",
    "plt.legend(loc='best')\n",
    "plt.show()"
   ]
  },
  {
   "cell_type": "markdown",
   "metadata": {},
   "source": [
    "This shows that the radius of influence is limited. We can now approximate this radius of influence by saying that the radius is where the appoximated Theis curve, that is the straight red line in the graph intersects the zero drawdown, i.e. $W(u) = 0$.\n",
    "\n",
    "Hence, for the radius of influence, R, we have\n",
    "\n",
    "$$ \\ln \\frac {2.25 kD t} {R^2 S} = 0 $$\n",
    "\n",
    "impying that\n",
    "\n",
    "$$ \\frac {2.25 kD t } { R^2 S } = 1 $$\n",
    "\n",
    "$$ R =\\sqrt { \\frac {2.25 kD t} D} $$\n",
    "\n",
    "with R the radius of influence. Computing the radius of influence is an easy way to determine how far out the drawdown affects the groundwater heads."
   ]
  },
  {
   "cell_type": "markdown",
   "metadata": {},
   "source": [
    "## Exercises"
   ]
  },
  {
   "cell_type": "markdown",
   "metadata": {},
   "source": [
    "Consider an aquifer with constant transmissivity kD = 900 m2/d, phreatic storage coefficient S with a well that extracts Q = 2400 m3/d.\n",
    "\n",
    "Use distances between 1 and 1000 m\n",
    "Use times between 0.01 and 100 days"
   ]
  },
  {
   "cell_type": "markdown",
   "metadata": {},
   "source": [
    "### Drawdown versus time\n",
    "Show the drawdown as a function of time for different distances where the drawdown is on linear scale and the time at logarithmic scale.\n",
    "Plot both the full Theis drawdown and the approximation."
   ]
  },
  {
   "cell_type": "markdown",
   "metadata": {},
   "source": [
    "### Drawdown versus distance\n",
    "\n",
    "Show the drawdown as a function of distance for different times where the drawdown is at linear scale and the distance is at logarithmic scale.\n",
    "Plot both the full Theis drawdown and the approximation."
   ]
  },
  {
   "cell_type": "markdown",
   "metadata": {},
   "source": [
    "### Show radius of influence on the drawdown-distance graph\n",
    "Also show the radius of influence for the different times on the drawdown versus distance curve. Just show them as red dots at s=0 and r the radius of influence."
   ]
  },
  {
   "cell_type": "markdown",
   "metadata": {},
   "source": [
    "## Pumping test\n",
    "\n",
    "Below are the data giventhat were obtained from a pumping test carried out on the site \"Oude Korendijk\" south of Rotterdam in the Netherlands (See Kruseman and De Ridder, p56, 59). The piezometers are all open at 20 m below ground surface. The groundwater head is shallow, within a m from ground surface. The first18 m below ground surface consist of clay,peat and clayey fine sand. These layers form a practially impermeable confining unit. Below this, between 18 and25 m below ground surface are 7 m of sand an some gravel, that form the aquifer. Fine sandy and clayey sediments thereunder from the base of the aquifer, which is considered impermeable.\n",
    "Piezometers wer installed at 30, 90 and 215 m from the well, open at 20 m below ground surface. The well has its screen installed over the whole thickness of the aquifer. We consider the aquifer as confined with no leakage. But we should look with a critical eye that the drawdown curves to verify to what extent this assumption holds true.\n",
    "\n",
    "The drawdown data for the three piezometers is given below. The first column is time after the start of the pump in minutes; the second column is the drawdown in m.\n",
    "\n",
    "The well extracts 788 m3/d\n",
    "\n",
    "The objective of the pumping test is to determine the properties kD and S of the aquifer.\n",
    "\n",
    "### To work out the test:\n",
    "\n",
    "1. Show the drawdown data on half-log time scale for the three piezometers.\n",
    "\n",
    "2. What do you expect these curves to look like? Do the drawdown lines become parallel after an initial time?\n",
    "\n",
    "3. Use the simplified drawdown formula to interpret the test.\n",
    "    1. Look where the simplified drawdown curves become zero.\n",
    "    2. Determine the drawdown increase per log-cycle of time.\n",
    "4 From this information determine the transmissivity and the storage coefficient."
   ]
  },
  {
   "cell_type": "code",
   "execution_count": null,
   "metadata": {
    "collapsed": false
   },
   "outputs": [],
   "source": [
    "#       t[min],  s[m]\n",
    "H30 = [ [0.0, 0.0],\n",
    "        [0.1, 0.04],\n",
    "        [0.25, 0.08],\n",
    "        [0.50, 0.13],\n",
    "        [0.70, 0.18],\n",
    "        [1.00, 0.23],\n",
    "        [1.40, 0.28],\n",
    "        [1.90, 0.33],\n",
    "        [2.33, 0.36],\n",
    "        [2.80, 0.39],\n",
    "        [3.36, 0.42],\n",
    "        [4.00, 0.45],\n",
    "        [5.35, 0.50],\n",
    "        [6.80, 0.54],\n",
    "        [8.30, 0.57],\n",
    "        [8.70, 0.58],\n",
    "        [10.0, 0.60],\n",
    "        [13.1, 0.64]]"
   ]
  },
  {
   "cell_type": "code",
   "execution_count": null,
   "metadata": {
    "collapsed": true
   },
   "outputs": [],
   "source": [
    "#    t[min],  s[m]\n",
    "H90= [[0.0, 0.0],\n",
    "      [1.5, 0.015],\n",
    "      [2.0, 0.021],\n",
    "      [2.16, 0.23],\n",
    "      [2.66, 0.044],\n",
    "      [3.00, 0.054],\n",
    "      [3.50, 0.075],\n",
    "      [4.00, 0.090],\n",
    "      [4.33, 0.104],\n",
    "      [5.50, 0.133],\n",
    "      [6.0, 0.154],\n",
    "      [7.5, 0.178],\n",
    "      [9.0, 0.206],\n",
    "      [13.0, 0.250],\n",
    "      [15.0, 0.275],\n",
    "      [18.0, 0.305],\n",
    "      [25.0, 0.348],\n",
    "      [30.0, 0.364]]"
   ]
  },
  {
   "cell_type": "code",
   "execution_count": null,
   "metadata": {
    "collapsed": true
   },
   "outputs": [],
   "source": [
    "#       t[min],  s[m]\n",
    "H215=[[0.0, 0.0],\n",
    "      [66.0, 0.089],\n",
    "      [127., 0.138],\n",
    "      [185., 0.165],\n",
    "      [251., 0.186]]"
   ]
  },
  {
   "cell_type": "markdown",
   "metadata": {},
   "source": [
    "### Work out the test on double logarithmic graph of drawdown versus time.\n",
    "\n",
    "1. Show the drawdown $s$ versus time on a double log graph for all three piezometers\n",
    "2. Show the drawdown $s$ versus t for all three piezometers\n",
    "2. Show the drawdown $s$ versus $ t/r^2 $, also for all three piezometers.\n",
    "\n",
    "What is the difference between the last two graphs (versus $t/r^2$ instead of versus $t$) ?\n",
    "\n",
    "3. Match the computed drawdown by plotting it on the same graph and adapting the transmissivity and the storage coefficient.\n",
    "\n",
    "Write the computed drawdown as follows:\n",
    "\n",
    "$$ s = A\\times W(u \\times B) $$\n",
    "\n",
    "Then adapting A willshift the entire graph vertically, while adaptin B will shift it horizontally. This makes it easy to lay the computed curve on the data points.\n",
    "\n",
    "4. By adapting A and B determine their numerical values.\n",
    "\n",
    "5. Determine the transmissivity kD and the storage coefficient S from A and B.\n",
    "\n",
    "**Hint**:\n",
    "Having determined A and B compute kD and S by matching this formula with the true Theis drawdown which is\n",
    "\n",
    "$$ s = \\frac Q {4 \\pi kD} W(\\frac {r^2 S} { 4 kD t}) $$\n",
    "\n",
    "That is, to make both equations equal, set\n",
    "$$  A = \\frac Q {4 \\pi kD} $$\n",
    "and set\n",
    "$$ \\frac 1 {u\\, B} = \\frac {4 kD} S  \\frac t {r^2} $$"
   ]
  },
  {
   "cell_type": "markdown",
   "metadata": {},
   "source": [
    "## Excercises\n",
    "\n",
    "1. A well is installed in a desert are where there are no fixed head boundaries. The well is 60 m deep and the aquifer is 80 m thick. The top of the well screen is at 40 m below ground surface and the phreatic water level at 15 m. Test pumping has revealed that the $kD = 600$ m2/d and the specific yield $Sy = 0.25$.\n",
    "As a first approximation ignore that the fact that the aquifer thickness gets less because of the falling water table caused by pumping.\n",
    "    1. How much can we pump until the head drops to halfway the screen in 3 years?\n",
    "    1. How much if it were 30 years?\n",
    "    1. How much could we pump over the same period had we drilled three of the same wells on one line at 250 m mutual distance?\n",
    "2. At an historic site the excavations need to be carried out in the dry. The water levels have gone up over the last 40 years due to a large reservoir that had been installed in the river by building a dam downstream. The water level needs to be lowerd by 10 m over a square are with sides of 30 m. The transmissivity is around 1200 m2/d according to test pumping and the specific yield about $Sy = 24% $.\n",
    "    1. Determine the pump capacity if 4 wells are used in the corners of the exacvation which needs to be dry only two weeks after they are installed.\n",
    "    1. The excavations will last for 1 year. What will be the required pump capacity after this year?"
   ]
  }
 ],
 "metadata": {
  "anaconda-cloud": {},
  "kernelspec": {
   "display_name": "Python [default]",
   "language": "python",
   "name": "python3"
  },
  "language_info": {
   "codemirror_mode": {
    "name": "ipython",
    "version": 3
   },
   "file_extension": ".py",
   "mimetype": "text/x-python",
   "name": "python",
   "nbconvert_exporter": "python",
   "pygments_lexer": "ipython3",
   "version": "3.5.2"
  }
 },
 "nbformat": 4,
 "nbformat_minor": 1
}
